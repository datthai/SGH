{
  "metadata": {
    "kernelspec": {
      "language": "python",
      "display_name": "Python 3",
      "name": "python3"
    },
    "language_info": {
      "name": "python",
      "version": "3.10.12",
      "mimetype": "text/x-python",
      "codemirror_mode": {
        "name": "ipython",
        "version": 3
      },
      "pygments_lexer": "ipython3",
      "nbconvert_exporter": "python",
      "file_extension": ".py"
    },
    "kaggle": {
      "accelerator": "none",
      "dataSources": [
        {
          "sourceId": 10994170,
          "sourceType": "datasetVersion",
          "datasetId": 1642789
        }
      ],
      "dockerImageVersionId": 30918,
      "isInternetEnabled": true,
      "language": "python",
      "sourceType": "notebook",
      "isGpuEnabled": false
    },
    "colab": {
      "provenance": []
    }
  },
  "nbformat_minor": 0,
  "nbformat": 4,
  "cells": [
    {
      "cell_type": "code",
      "source": [
        "import numpy as np\n",
        "import pandas as pd\n",
        "import matplotlib.pyplot as plt\n",
        "from sklearn.preprocessing import MinMaxScaler\n",
        "from sklearn.metrics import mean_squared_error, r2_score\n",
        "from keras.models import Sequential\n",
        "from keras.layers import LSTM, Dense, Input\n",
        "from keras.models import Model\n",
        "import warnings\n",
        "warnings.filterwarnings('ignore')\n"
      ],
      "metadata": {
        "_uuid": "8f2839f25d086af736a60e9eeb907d3b93b6e0e5",
        "_cell_guid": "b1076dfc-b9ad-4769-8c92-a6c4dae69d19",
        "trusted": true,
        "execution": {
          "iopub.status.busy": "2025-03-11T22:16:15.546654Z",
          "iopub.execute_input": "2025-03-11T22:16:15.547006Z",
          "iopub.status.idle": "2025-03-11T22:16:31.592214Z",
          "shell.execute_reply.started": "2025-03-11T22:16:15.54698Z",
          "shell.execute_reply": "2025-03-11T22:16:31.591084Z"
        },
        "id": "rZRyIeye_vMi"
      },
      "outputs": [],
      "execution_count": null
    },
    {
      "cell_type": "markdown",
      "source": [
        "# Getting data from Kaggle"
      ],
      "metadata": {
        "id": "snc_2OYwC9NL"
      }
    },
    {
      "source": [
        "# Install necessary packages\n",
        "!pip install kaggle nltk\n",
        "#Create the .kaggle directory\n",
        "!mkdir -p ~/.kaggle\n"
      ],
      "metadata": {
        "id": "yTGde7sa_vMf",
        "colab": {
          "base_uri": "https://localhost:8080/"
        },
        "outputId": "db00c5b9-4d84-4661-8fc2-95d10f9b6cf1"
      },
      "cell_type": "code",
      "outputs": [
        {
          "output_type": "stream",
          "name": "stdout",
          "text": [
            "Requirement already satisfied: kaggle in /usr/local/lib/python3.11/dist-packages (1.7.4.2)\n",
            "Requirement already satisfied: nltk in /usr/local/lib/python3.11/dist-packages (3.9.1)\n",
            "Requirement already satisfied: bleach in /usr/local/lib/python3.11/dist-packages (from kaggle) (6.2.0)\n",
            "Requirement already satisfied: certifi>=14.05.14 in /usr/local/lib/python3.11/dist-packages (from kaggle) (2025.1.31)\n",
            "Requirement already satisfied: charset-normalizer in /usr/local/lib/python3.11/dist-packages (from kaggle) (3.4.1)\n",
            "Requirement already satisfied: idna in /usr/local/lib/python3.11/dist-packages (from kaggle) (3.10)\n",
            "Requirement already satisfied: protobuf in /usr/local/lib/python3.11/dist-packages (from kaggle) (5.29.3)\n",
            "Requirement already satisfied: python-dateutil>=2.5.3 in /usr/local/lib/python3.11/dist-packages (from kaggle) (2.8.2)\n",
            "Requirement already satisfied: python-slugify in /usr/local/lib/python3.11/dist-packages (from kaggle) (8.0.4)\n",
            "Requirement already satisfied: requests in /usr/local/lib/python3.11/dist-packages (from kaggle) (2.32.3)\n",
            "Requirement already satisfied: setuptools>=21.0.0 in /usr/local/lib/python3.11/dist-packages (from kaggle) (75.1.0)\n",
            "Requirement already satisfied: six>=1.10 in /usr/local/lib/python3.11/dist-packages (from kaggle) (1.17.0)\n",
            "Requirement already satisfied: text-unidecode in /usr/local/lib/python3.11/dist-packages (from kaggle) (1.3)\n",
            "Requirement already satisfied: tqdm in /usr/local/lib/python3.11/dist-packages (from kaggle) (4.67.1)\n",
            "Requirement already satisfied: urllib3>=1.15.1 in /usr/local/lib/python3.11/dist-packages (from kaggle) (2.3.0)\n",
            "Requirement already satisfied: webencodings in /usr/local/lib/python3.11/dist-packages (from kaggle) (0.5.1)\n",
            "Requirement already satisfied: click in /usr/local/lib/python3.11/dist-packages (from nltk) (8.1.8)\n",
            "Requirement already satisfied: joblib in /usr/local/lib/python3.11/dist-packages (from nltk) (1.4.2)\n",
            "Requirement already satisfied: regex>=2021.8.3 in /usr/local/lib/python3.11/dist-packages (from nltk) (2024.11.6)\n"
          ]
        }
      ],
      "execution_count": null
    },
    {
      "cell_type": "code",
      "source": [
        "mv /content/kaggle.json ~/.kaggle/"
      ],
      "metadata": {
        "id": "NsJkh3V0nQ4b"
      },
      "execution_count": null,
      "outputs": []
    },
    {
      "cell_type": "code",
      "source": [
        "#Download Dataset directly from Kaggle\n",
        "!kaggle datasets download -d kalilurrahman/mastercard-stock-data-latest-and-updated"
      ],
      "metadata": {
        "colab": {
          "base_uri": "https://localhost:8080/"
        },
        "id": "pSK6fwLSgQja",
        "outputId": "b341e68a-fa3f-4036-c14b-40560b06e391"
      },
      "execution_count": null,
      "outputs": [
        {
          "output_type": "stream",
          "name": "stdout",
          "text": [
            "Warning: Your Kaggle API key is readable by other users on this system! To fix this, you can run 'chmod 600 /root/.kaggle/kaggle.json'\n",
            "Dataset URL: https://www.kaggle.com/datasets/kalilurrahman/mastercard-stock-data-latest-and-updated\n",
            "License(s): CC0-1.0\n"
          ]
        }
      ]
    },
    {
      "cell_type": "code",
      "source": [
        "#Extract zip file\n",
        "!unzip /content/mastercard-stock-data-latest-and-updated.zip\n"
      ],
      "metadata": {
        "id": "cF_9XDR2C_rq",
        "colab": {
          "base_uri": "https://localhost:8080/"
        },
        "outputId": "c9c2b048-908e-4df1-8947-efdf2944fb7d"
      },
      "execution_count": null,
      "outputs": [
        {
          "output_type": "stream",
          "name": "stdout",
          "text": [
            "Archive:  /content/mastercard-stock-data-latest-and-updated.zip\n",
            "  inflating: Mastercard_stock_action.csv  \n",
            "  inflating: Mastercard_stock_dividends.csv  \n",
            "  inflating: Mastercard_stock_history.csv  \n",
            "  inflating: Mastercard_stock_info.csv  \n",
            "  inflating: Mastercard_stock_spilts.csv  \n"
          ]
        }
      ]
    },
    {
      "cell_type": "code",
      "source": [
        "df = pd.read_csv(\"/content/Mastercard_stock_history.csv\")"
      ],
      "metadata": {
        "id": "8UQRHTv3DBiy"
      },
      "execution_count": null,
      "outputs": []
    },
    {
      "cell_type": "code",
      "source": [
        "df_org = pd.read_csv(\"/content/Mastercard_stock_history.csv\")"
      ],
      "metadata": {
        "id": "86eWa7wJrzjB"
      },
      "execution_count": null,
      "outputs": []
    },
    {
      "cell_type": "markdown",
      "source": [
        "# Dataset Explanation\n",
        "Mastercard Inc. (stylized as MasterCard from 1979 to 2016 and MasterCard since 2016) is an American multinational financial services corporation headquartered in the Mastercard International Global Headquarters in Purchase, New York. The Global Operations Headquarters is located in O'Fallon, Missouri, a municipality of St. Charles County, Missouri. Throughout the world, its principal business is to process payments between the banks of merchants and the card-issuing banks or credit unions of the purchasers who use the \"Mastercard\" brand debit, credit, and prepaid cards to make purchases. Mastercard Worldwide has been a publicly traded company since 2006. Prior to its initial public offering, Mastercard Worldwide was a cooperative owned by the more than 25,000 financial institutions that issue its branded cards.\n",
        "\n",
        "Mastercard, originally known as Interbank from 1966 to 1969 and Master Charge from 1969 to 1979, was created by an alliance of several regional bank card associations in response to the BankAmericard issued by Bank of America, which later became the Visa credit card issued by Visa Inc.\n",
        "\n",
        "Mastercard is one of the best performing stocks of the decade of 2011-2020\n",
        "\n",
        "## Features\n",
        "* Date: The date on which the stock prices were recorded.\n",
        "* Open: The opening price of the stock.\n",
        "* High: The highest price of the stock during the day.\n",
        "* Low: The lowest price of the stock during the day.\n",
        "* Close: The closing price of the stock.\n",
        "* Volume: The trading volume (number of shares traded).\n",
        "* Dividends: The amount of dividends paid.\n",
        "* Stock Splits: The number of stock splits."
      ],
      "metadata": {
        "id": "EP8hHm2B_vMg"
      }
    },
    {
      "cell_type": "markdown",
      "source": [
        "# EDA"
      ],
      "metadata": {
        "id": "mPLn3oOQ_vMi"
      }
    },
    {
      "cell_type": "code",
      "source": [
        "df.head()"
      ],
      "metadata": {
        "trusted": true,
        "execution": {
          "iopub.status.busy": "2025-03-11T22:01:13.223072Z",
          "iopub.execute_input": "2025-03-11T22:01:13.223563Z",
          "iopub.status.idle": "2025-03-11T22:01:13.253182Z",
          "shell.execute_reply.started": "2025-03-11T22:01:13.223525Z",
          "shell.execute_reply": "2025-03-11T22:01:13.252023Z"
        },
        "id": "_PmG8bKt_vMk",
        "colab": {
          "base_uri": "https://localhost:8080/",
          "height": 204
        },
        "outputId": "a6d08094-53d5-480f-8dda-958c6c8a25ac"
      },
      "outputs": [
        {
          "output_type": "execute_result",
          "data": {
            "text/plain": [
              "                        Date      Open      High       Low     Close  \\\n",
              "0  2006-05-25 00:00:00-04:00  3.677800  4.202548  3.668674  4.197985   \n",
              "1  2006-05-26 00:00:00-04:00  4.225363  4.265517  4.025502  4.100336   \n",
              "2  2006-05-30 00:00:00-04:00  4.103990  4.104902  3.910517  4.015467   \n",
              "3  2006-05-31 00:00:00-04:00  4.047406  4.139579  4.047406  4.101250   \n",
              "4  2006-06-01 00:00:00-04:00  4.100334  4.389630  4.097596  4.335786   \n",
              "\n",
              "      Volume  Dividends  Stock Splits  \n",
              "0  395343000        0.0           0.0  \n",
              "1  103044000        0.0           0.0  \n",
              "2   49898000        0.0           0.0  \n",
              "3   30002000        0.0           0.0  \n",
              "4   62344000        0.0           0.0  "
            ],
            "text/html": [
              "\n",
              "  <div id=\"df-5f29d46b-15d3-4518-878d-c5ed711afcc7\" class=\"colab-df-container\">\n",
              "    <div>\n",
              "<style scoped>\n",
              "    .dataframe tbody tr th:only-of-type {\n",
              "        vertical-align: middle;\n",
              "    }\n",
              "\n",
              "    .dataframe tbody tr th {\n",
              "        vertical-align: top;\n",
              "    }\n",
              "\n",
              "    .dataframe thead th {\n",
              "        text-align: right;\n",
              "    }\n",
              "</style>\n",
              "<table border=\"1\" class=\"dataframe\">\n",
              "  <thead>\n",
              "    <tr style=\"text-align: right;\">\n",
              "      <th></th>\n",
              "      <th>Date</th>\n",
              "      <th>Open</th>\n",
              "      <th>High</th>\n",
              "      <th>Low</th>\n",
              "      <th>Close</th>\n",
              "      <th>Volume</th>\n",
              "      <th>Dividends</th>\n",
              "      <th>Stock Splits</th>\n",
              "    </tr>\n",
              "  </thead>\n",
              "  <tbody>\n",
              "    <tr>\n",
              "      <th>0</th>\n",
              "      <td>2006-05-25 00:00:00-04:00</td>\n",
              "      <td>3.677800</td>\n",
              "      <td>4.202548</td>\n",
              "      <td>3.668674</td>\n",
              "      <td>4.197985</td>\n",
              "      <td>395343000</td>\n",
              "      <td>0.0</td>\n",
              "      <td>0.0</td>\n",
              "    </tr>\n",
              "    <tr>\n",
              "      <th>1</th>\n",
              "      <td>2006-05-26 00:00:00-04:00</td>\n",
              "      <td>4.225363</td>\n",
              "      <td>4.265517</td>\n",
              "      <td>4.025502</td>\n",
              "      <td>4.100336</td>\n",
              "      <td>103044000</td>\n",
              "      <td>0.0</td>\n",
              "      <td>0.0</td>\n",
              "    </tr>\n",
              "    <tr>\n",
              "      <th>2</th>\n",
              "      <td>2006-05-30 00:00:00-04:00</td>\n",
              "      <td>4.103990</td>\n",
              "      <td>4.104902</td>\n",
              "      <td>3.910517</td>\n",
              "      <td>4.015467</td>\n",
              "      <td>49898000</td>\n",
              "      <td>0.0</td>\n",
              "      <td>0.0</td>\n",
              "    </tr>\n",
              "    <tr>\n",
              "      <th>3</th>\n",
              "      <td>2006-05-31 00:00:00-04:00</td>\n",
              "      <td>4.047406</td>\n",
              "      <td>4.139579</td>\n",
              "      <td>4.047406</td>\n",
              "      <td>4.101250</td>\n",
              "      <td>30002000</td>\n",
              "      <td>0.0</td>\n",
              "      <td>0.0</td>\n",
              "    </tr>\n",
              "    <tr>\n",
              "      <th>4</th>\n",
              "      <td>2006-06-01 00:00:00-04:00</td>\n",
              "      <td>4.100334</td>\n",
              "      <td>4.389630</td>\n",
              "      <td>4.097596</td>\n",
              "      <td>4.335786</td>\n",
              "      <td>62344000</td>\n",
              "      <td>0.0</td>\n",
              "      <td>0.0</td>\n",
              "    </tr>\n",
              "  </tbody>\n",
              "</table>\n",
              "</div>\n",
              "    <div class=\"colab-df-buttons\">\n",
              "\n",
              "  <div class=\"colab-df-container\">\n",
              "    <button class=\"colab-df-convert\" onclick=\"convertToInteractive('df-5f29d46b-15d3-4518-878d-c5ed711afcc7')\"\n",
              "            title=\"Convert this dataframe to an interactive table.\"\n",
              "            style=\"display:none;\">\n",
              "\n",
              "  <svg xmlns=\"http://www.w3.org/2000/svg\" height=\"24px\" viewBox=\"0 -960 960 960\">\n",
              "    <path d=\"M120-120v-720h720v720H120Zm60-500h600v-160H180v160Zm220 220h160v-160H400v160Zm0 220h160v-160H400v160ZM180-400h160v-160H180v160Zm440 0h160v-160H620v160ZM180-180h160v-160H180v160Zm440 0h160v-160H620v160Z\"/>\n",
              "  </svg>\n",
              "    </button>\n",
              "\n",
              "  <style>\n",
              "    .colab-df-container {\n",
              "      display:flex;\n",
              "      gap: 12px;\n",
              "    }\n",
              "\n",
              "    .colab-df-convert {\n",
              "      background-color: #E8F0FE;\n",
              "      border: none;\n",
              "      border-radius: 50%;\n",
              "      cursor: pointer;\n",
              "      display: none;\n",
              "      fill: #1967D2;\n",
              "      height: 32px;\n",
              "      padding: 0 0 0 0;\n",
              "      width: 32px;\n",
              "    }\n",
              "\n",
              "    .colab-df-convert:hover {\n",
              "      background-color: #E2EBFA;\n",
              "      box-shadow: 0px 1px 2px rgba(60, 64, 67, 0.3), 0px 1px 3px 1px rgba(60, 64, 67, 0.15);\n",
              "      fill: #174EA6;\n",
              "    }\n",
              "\n",
              "    .colab-df-buttons div {\n",
              "      margin-bottom: 4px;\n",
              "    }\n",
              "\n",
              "    [theme=dark] .colab-df-convert {\n",
              "      background-color: #3B4455;\n",
              "      fill: #D2E3FC;\n",
              "    }\n",
              "\n",
              "    [theme=dark] .colab-df-convert:hover {\n",
              "      background-color: #434B5C;\n",
              "      box-shadow: 0px 1px 3px 1px rgba(0, 0, 0, 0.15);\n",
              "      filter: drop-shadow(0px 1px 2px rgba(0, 0, 0, 0.3));\n",
              "      fill: #FFFFFF;\n",
              "    }\n",
              "  </style>\n",
              "\n",
              "    <script>\n",
              "      const buttonEl =\n",
              "        document.querySelector('#df-5f29d46b-15d3-4518-878d-c5ed711afcc7 button.colab-df-convert');\n",
              "      buttonEl.style.display =\n",
              "        google.colab.kernel.accessAllowed ? 'block' : 'none';\n",
              "\n",
              "      async function convertToInteractive(key) {\n",
              "        const element = document.querySelector('#df-5f29d46b-15d3-4518-878d-c5ed711afcc7');\n",
              "        const dataTable =\n",
              "          await google.colab.kernel.invokeFunction('convertToInteractive',\n",
              "                                                    [key], {});\n",
              "        if (!dataTable) return;\n",
              "\n",
              "        const docLinkHtml = 'Like what you see? Visit the ' +\n",
              "          '<a target=\"_blank\" href=https://colab.research.google.com/notebooks/data_table.ipynb>data table notebook</a>'\n",
              "          + ' to learn more about interactive tables.';\n",
              "        element.innerHTML = '';\n",
              "        dataTable['output_type'] = 'display_data';\n",
              "        await google.colab.output.renderOutput(dataTable, element);\n",
              "        const docLink = document.createElement('div');\n",
              "        docLink.innerHTML = docLinkHtml;\n",
              "        element.appendChild(docLink);\n",
              "      }\n",
              "    </script>\n",
              "  </div>\n",
              "\n",
              "\n",
              "<div id=\"df-11fb042a-3113-4d3b-a684-75227e547df5\">\n",
              "  <button class=\"colab-df-quickchart\" onclick=\"quickchart('df-11fb042a-3113-4d3b-a684-75227e547df5')\"\n",
              "            title=\"Suggest charts\"\n",
              "            style=\"display:none;\">\n",
              "\n",
              "<svg xmlns=\"http://www.w3.org/2000/svg\" height=\"24px\"viewBox=\"0 0 24 24\"\n",
              "     width=\"24px\">\n",
              "    <g>\n",
              "        <path d=\"M19 3H5c-1.1 0-2 .9-2 2v14c0 1.1.9 2 2 2h14c1.1 0 2-.9 2-2V5c0-1.1-.9-2-2-2zM9 17H7v-7h2v7zm4 0h-2V7h2v10zm4 0h-2v-4h2v4z\"/>\n",
              "    </g>\n",
              "</svg>\n",
              "  </button>\n",
              "\n",
              "<style>\n",
              "  .colab-df-quickchart {\n",
              "      --bg-color: #E8F0FE;\n",
              "      --fill-color: #1967D2;\n",
              "      --hover-bg-color: #E2EBFA;\n",
              "      --hover-fill-color: #174EA6;\n",
              "      --disabled-fill-color: #AAA;\n",
              "      --disabled-bg-color: #DDD;\n",
              "  }\n",
              "\n",
              "  [theme=dark] .colab-df-quickchart {\n",
              "      --bg-color: #3B4455;\n",
              "      --fill-color: #D2E3FC;\n",
              "      --hover-bg-color: #434B5C;\n",
              "      --hover-fill-color: #FFFFFF;\n",
              "      --disabled-bg-color: #3B4455;\n",
              "      --disabled-fill-color: #666;\n",
              "  }\n",
              "\n",
              "  .colab-df-quickchart {\n",
              "    background-color: var(--bg-color);\n",
              "    border: none;\n",
              "    border-radius: 50%;\n",
              "    cursor: pointer;\n",
              "    display: none;\n",
              "    fill: var(--fill-color);\n",
              "    height: 32px;\n",
              "    padding: 0;\n",
              "    width: 32px;\n",
              "  }\n",
              "\n",
              "  .colab-df-quickchart:hover {\n",
              "    background-color: var(--hover-bg-color);\n",
              "    box-shadow: 0 1px 2px rgba(60, 64, 67, 0.3), 0 1px 3px 1px rgba(60, 64, 67, 0.15);\n",
              "    fill: var(--button-hover-fill-color);\n",
              "  }\n",
              "\n",
              "  .colab-df-quickchart-complete:disabled,\n",
              "  .colab-df-quickchart-complete:disabled:hover {\n",
              "    background-color: var(--disabled-bg-color);\n",
              "    fill: var(--disabled-fill-color);\n",
              "    box-shadow: none;\n",
              "  }\n",
              "\n",
              "  .colab-df-spinner {\n",
              "    border: 2px solid var(--fill-color);\n",
              "    border-color: transparent;\n",
              "    border-bottom-color: var(--fill-color);\n",
              "    animation:\n",
              "      spin 1s steps(1) infinite;\n",
              "  }\n",
              "\n",
              "  @keyframes spin {\n",
              "    0% {\n",
              "      border-color: transparent;\n",
              "      border-bottom-color: var(--fill-color);\n",
              "      border-left-color: var(--fill-color);\n",
              "    }\n",
              "    20% {\n",
              "      border-color: transparent;\n",
              "      border-left-color: var(--fill-color);\n",
              "      border-top-color: var(--fill-color);\n",
              "    }\n",
              "    30% {\n",
              "      border-color: transparent;\n",
              "      border-left-color: var(--fill-color);\n",
              "      border-top-color: var(--fill-color);\n",
              "      border-right-color: var(--fill-color);\n",
              "    }\n",
              "    40% {\n",
              "      border-color: transparent;\n",
              "      border-right-color: var(--fill-color);\n",
              "      border-top-color: var(--fill-color);\n",
              "    }\n",
              "    60% {\n",
              "      border-color: transparent;\n",
              "      border-right-color: var(--fill-color);\n",
              "    }\n",
              "    80% {\n",
              "      border-color: transparent;\n",
              "      border-right-color: var(--fill-color);\n",
              "      border-bottom-color: var(--fill-color);\n",
              "    }\n",
              "    90% {\n",
              "      border-color: transparent;\n",
              "      border-bottom-color: var(--fill-color);\n",
              "    }\n",
              "  }\n",
              "</style>\n",
              "\n",
              "  <script>\n",
              "    async function quickchart(key) {\n",
              "      const quickchartButtonEl =\n",
              "        document.querySelector('#' + key + ' button');\n",
              "      quickchartButtonEl.disabled = true;  // To prevent multiple clicks.\n",
              "      quickchartButtonEl.classList.add('colab-df-spinner');\n",
              "      try {\n",
              "        const charts = await google.colab.kernel.invokeFunction(\n",
              "            'suggestCharts', [key], {});\n",
              "      } catch (error) {\n",
              "        console.error('Error during call to suggestCharts:', error);\n",
              "      }\n",
              "      quickchartButtonEl.classList.remove('colab-df-spinner');\n",
              "      quickchartButtonEl.classList.add('colab-df-quickchart-complete');\n",
              "    }\n",
              "    (() => {\n",
              "      let quickchartButtonEl =\n",
              "        document.querySelector('#df-11fb042a-3113-4d3b-a684-75227e547df5 button');\n",
              "      quickchartButtonEl.style.display =\n",
              "        google.colab.kernel.accessAllowed ? 'block' : 'none';\n",
              "    })();\n",
              "  </script>\n",
              "</div>\n",
              "\n",
              "    </div>\n",
              "  </div>\n"
            ],
            "application/vnd.google.colaboratory.intrinsic+json": {
              "type": "dataframe",
              "variable_name": "df",
              "summary": "{\n  \"name\": \"df\",\n  \"rows\": 4733,\n  \"fields\": [\n    {\n      \"column\": \"Date\",\n      \"properties\": {\n        \"dtype\": \"object\",\n        \"num_unique_values\": 4733,\n        \"samples\": [\n          \"2015-07-27 00:00:00-04:00\",\n          \"2007-10-22 00:00:00-04:00\",\n          \"2011-12-09 00:00:00-05:00\"\n        ],\n        \"semantic_type\": \"\",\n        \"description\": \"\"\n      }\n    },\n    {\n      \"column\": \"Open\",\n      \"properties\": {\n        \"dtype\": \"number\",\n        \"std\": 151.82787281617112,\n        \"min\": 3.6778003208195167,\n        \"max\": 577.3300170898438,\n        \"num_unique_values\": 4733,\n        \"samples\": [\n          90.1298129571866,\n          13.762333265741734,\n          34.65250133862911\n        ],\n        \"semantic_type\": \"\",\n        \"description\": \"\"\n      }\n    },\n    {\n      \"column\": \"High\",\n      \"properties\": {\n        \"dtype\": \"number\",\n        \"std\": 153.18239964467574,\n        \"min\": 4.024588775510627,\n        \"max\": 582.22998046875,\n        \"num_unique_values\": 4732,\n        \"samples\": [\n          230.4879284043676,\n          14.100909643958024,\n          353.5781569084332\n        ],\n        \"semantic_type\": \"\",\n        \"description\": \"\"\n      }\n    },\n    {\n      \"column\": \"Low\",\n      \"properties\": {\n        \"dtype\": \"number\",\n        \"std\": 150.43322398290462,\n        \"min\": 3.6686740570291647,\n        \"max\": 570.0,\n        \"num_unique_values\": 4732,\n        \"samples\": [\n          227.6304509696197,\n          13.337508181138189,\n          351.0578469413886\n        ],\n        \"semantic_type\": \"\",\n        \"description\": \"\"\n      }\n    },\n    {\n      \"column\": \"Close\",\n      \"properties\": {\n        \"dtype\": \"number\",\n        \"std\": 151.8466663855137,\n        \"min\": 4.006336688995361,\n        \"max\": 576.3099975585938,\n        \"num_unique_values\": 4655,\n        \"samples\": [\n          44.78754425048828,\n          22.808103561401367,\n          84.18679809570312\n        ],\n        \"semantic_type\": \"\",\n        \"description\": \"\"\n      }\n    },\n    {\n      \"column\": \"Volume\",\n      \"properties\": {\n        \"dtype\": \"number\",\n        \"std\": 16329908,\n        \"min\": 641100,\n        \"max\": 395343000,\n        \"num_unique_values\": 4583,\n        \"samples\": [\n          12410000,\n          2484200,\n          5006000\n        ],\n        \"semantic_type\": \"\",\n        \"description\": \"\"\n      }\n    },\n    {\n      \"column\": \"Dividends\",\n      \"properties\": {\n        \"dtype\": \"number\",\n        \"std\": 0.03881495167896917,\n        \"min\": 0.0,\n        \"max\": 0.76,\n        \"num_unique_values\": 17,\n        \"samples\": [\n          0.0,\n          0.009,\n          0.11\n        ],\n        \"semantic_type\": \"\",\n        \"description\": \"\"\n      }\n    },\n    {\n      \"column\": \"Stock Splits\",\n      \"properties\": {\n        \"dtype\": \"number\",\n        \"std\": 0.1453555931782544,\n        \"min\": 0.0,\n        \"max\": 10.0,\n        \"num_unique_values\": 2,\n        \"samples\": [\n          10.0,\n          0.0\n        ],\n        \"semantic_type\": \"\",\n        \"description\": \"\"\n      }\n    }\n  ]\n}"
            }
          },
          "metadata": {},
          "execution_count": 116
        }
      ],
      "execution_count": null
    },
    {
      "cell_type": "code",
      "source": [
        "df.describe().apply(lambda s: s.apply('{0:.1f}'.format))"
      ],
      "metadata": {
        "trusted": true,
        "execution": {
          "iopub.status.busy": "2025-03-11T22:01:16.951963Z",
          "iopub.execute_input": "2025-03-11T22:01:16.952275Z",
          "iopub.status.idle": "2025-03-11T22:01:16.967116Z",
          "shell.execute_reply.started": "2025-03-11T22:01:16.95225Z",
          "shell.execute_reply": "2025-03-11T22:01:16.965646Z"
        },
        "id": "16l2E_qS_vMl",
        "colab": {
          "base_uri": "https://localhost:8080/",
          "height": 297
        },
        "outputId": "9f65f8e7-79b2-4178-e7ac-eb74568e5877"
      },
      "outputs": [
        {
          "output_type": "execute_result",
          "data": {
            "text/plain": [
              "         Open    High     Low   Close       Volume Dividends Stock Splits\n",
              "count  4733.0  4733.0  4733.0  4733.0       4733.0    4733.0       4733.0\n",
              "mean    157.2   158.8   155.7   157.2   10621007.8       0.0          0.0\n",
              "std     151.8   153.2   150.4   151.8   16329908.0       0.0          0.1\n",
              "min       3.7     4.0     3.7     4.0     641100.0       0.0          0.0\n",
              "25%      24.7    25.0    24.4    24.7    3020000.0       0.0          0.0\n",
              "50%      87.6    88.4    87.0    87.7    4742400.0       0.0          0.0\n",
              "75%     298.5   302.1   294.4   298.4   10621000.0       0.0          0.0\n",
              "max     577.3   582.2   570.0   576.3  395343000.0       0.8         10.0"
            ],
            "text/html": [
              "\n",
              "  <div id=\"df-f16cf3d6-80e4-4c4d-b109-10c470b8244c\" class=\"colab-df-container\">\n",
              "    <div>\n",
              "<style scoped>\n",
              "    .dataframe tbody tr th:only-of-type {\n",
              "        vertical-align: middle;\n",
              "    }\n",
              "\n",
              "    .dataframe tbody tr th {\n",
              "        vertical-align: top;\n",
              "    }\n",
              "\n",
              "    .dataframe thead th {\n",
              "        text-align: right;\n",
              "    }\n",
              "</style>\n",
              "<table border=\"1\" class=\"dataframe\">\n",
              "  <thead>\n",
              "    <tr style=\"text-align: right;\">\n",
              "      <th></th>\n",
              "      <th>Open</th>\n",
              "      <th>High</th>\n",
              "      <th>Low</th>\n",
              "      <th>Close</th>\n",
              "      <th>Volume</th>\n",
              "      <th>Dividends</th>\n",
              "      <th>Stock Splits</th>\n",
              "    </tr>\n",
              "  </thead>\n",
              "  <tbody>\n",
              "    <tr>\n",
              "      <th>count</th>\n",
              "      <td>4733.0</td>\n",
              "      <td>4733.0</td>\n",
              "      <td>4733.0</td>\n",
              "      <td>4733.0</td>\n",
              "      <td>4733.0</td>\n",
              "      <td>4733.0</td>\n",
              "      <td>4733.0</td>\n",
              "    </tr>\n",
              "    <tr>\n",
              "      <th>mean</th>\n",
              "      <td>157.2</td>\n",
              "      <td>158.8</td>\n",
              "      <td>155.7</td>\n",
              "      <td>157.2</td>\n",
              "      <td>10621007.8</td>\n",
              "      <td>0.0</td>\n",
              "      <td>0.0</td>\n",
              "    </tr>\n",
              "    <tr>\n",
              "      <th>std</th>\n",
              "      <td>151.8</td>\n",
              "      <td>153.2</td>\n",
              "      <td>150.4</td>\n",
              "      <td>151.8</td>\n",
              "      <td>16329908.0</td>\n",
              "      <td>0.0</td>\n",
              "      <td>0.1</td>\n",
              "    </tr>\n",
              "    <tr>\n",
              "      <th>min</th>\n",
              "      <td>3.7</td>\n",
              "      <td>4.0</td>\n",
              "      <td>3.7</td>\n",
              "      <td>4.0</td>\n",
              "      <td>641100.0</td>\n",
              "      <td>0.0</td>\n",
              "      <td>0.0</td>\n",
              "    </tr>\n",
              "    <tr>\n",
              "      <th>25%</th>\n",
              "      <td>24.7</td>\n",
              "      <td>25.0</td>\n",
              "      <td>24.4</td>\n",
              "      <td>24.7</td>\n",
              "      <td>3020000.0</td>\n",
              "      <td>0.0</td>\n",
              "      <td>0.0</td>\n",
              "    </tr>\n",
              "    <tr>\n",
              "      <th>50%</th>\n",
              "      <td>87.6</td>\n",
              "      <td>88.4</td>\n",
              "      <td>87.0</td>\n",
              "      <td>87.7</td>\n",
              "      <td>4742400.0</td>\n",
              "      <td>0.0</td>\n",
              "      <td>0.0</td>\n",
              "    </tr>\n",
              "    <tr>\n",
              "      <th>75%</th>\n",
              "      <td>298.5</td>\n",
              "      <td>302.1</td>\n",
              "      <td>294.4</td>\n",
              "      <td>298.4</td>\n",
              "      <td>10621000.0</td>\n",
              "      <td>0.0</td>\n",
              "      <td>0.0</td>\n",
              "    </tr>\n",
              "    <tr>\n",
              "      <th>max</th>\n",
              "      <td>577.3</td>\n",
              "      <td>582.2</td>\n",
              "      <td>570.0</td>\n",
              "      <td>576.3</td>\n",
              "      <td>395343000.0</td>\n",
              "      <td>0.8</td>\n",
              "      <td>10.0</td>\n",
              "    </tr>\n",
              "  </tbody>\n",
              "</table>\n",
              "</div>\n",
              "    <div class=\"colab-df-buttons\">\n",
              "\n",
              "  <div class=\"colab-df-container\">\n",
              "    <button class=\"colab-df-convert\" onclick=\"convertToInteractive('df-f16cf3d6-80e4-4c4d-b109-10c470b8244c')\"\n",
              "            title=\"Convert this dataframe to an interactive table.\"\n",
              "            style=\"display:none;\">\n",
              "\n",
              "  <svg xmlns=\"http://www.w3.org/2000/svg\" height=\"24px\" viewBox=\"0 -960 960 960\">\n",
              "    <path d=\"M120-120v-720h720v720H120Zm60-500h600v-160H180v160Zm220 220h160v-160H400v160Zm0 220h160v-160H400v160ZM180-400h160v-160H180v160Zm440 0h160v-160H620v160ZM180-180h160v-160H180v160Zm440 0h160v-160H620v160Z\"/>\n",
              "  </svg>\n",
              "    </button>\n",
              "\n",
              "  <style>\n",
              "    .colab-df-container {\n",
              "      display:flex;\n",
              "      gap: 12px;\n",
              "    }\n",
              "\n",
              "    .colab-df-convert {\n",
              "      background-color: #E8F0FE;\n",
              "      border: none;\n",
              "      border-radius: 50%;\n",
              "      cursor: pointer;\n",
              "      display: none;\n",
              "      fill: #1967D2;\n",
              "      height: 32px;\n",
              "      padding: 0 0 0 0;\n",
              "      width: 32px;\n",
              "    }\n",
              "\n",
              "    .colab-df-convert:hover {\n",
              "      background-color: #E2EBFA;\n",
              "      box-shadow: 0px 1px 2px rgba(60, 64, 67, 0.3), 0px 1px 3px 1px rgba(60, 64, 67, 0.15);\n",
              "      fill: #174EA6;\n",
              "    }\n",
              "\n",
              "    .colab-df-buttons div {\n",
              "      margin-bottom: 4px;\n",
              "    }\n",
              "\n",
              "    [theme=dark] .colab-df-convert {\n",
              "      background-color: #3B4455;\n",
              "      fill: #D2E3FC;\n",
              "    }\n",
              "\n",
              "    [theme=dark] .colab-df-convert:hover {\n",
              "      background-color: #434B5C;\n",
              "      box-shadow: 0px 1px 3px 1px rgba(0, 0, 0, 0.15);\n",
              "      filter: drop-shadow(0px 1px 2px rgba(0, 0, 0, 0.3));\n",
              "      fill: #FFFFFF;\n",
              "    }\n",
              "  </style>\n",
              "\n",
              "    <script>\n",
              "      const buttonEl =\n",
              "        document.querySelector('#df-f16cf3d6-80e4-4c4d-b109-10c470b8244c button.colab-df-convert');\n",
              "      buttonEl.style.display =\n",
              "        google.colab.kernel.accessAllowed ? 'block' : 'none';\n",
              "\n",
              "      async function convertToInteractive(key) {\n",
              "        const element = document.querySelector('#df-f16cf3d6-80e4-4c4d-b109-10c470b8244c');\n",
              "        const dataTable =\n",
              "          await google.colab.kernel.invokeFunction('convertToInteractive',\n",
              "                                                    [key], {});\n",
              "        if (!dataTable) return;\n",
              "\n",
              "        const docLinkHtml = 'Like what you see? Visit the ' +\n",
              "          '<a target=\"_blank\" href=https://colab.research.google.com/notebooks/data_table.ipynb>data table notebook</a>'\n",
              "          + ' to learn more about interactive tables.';\n",
              "        element.innerHTML = '';\n",
              "        dataTable['output_type'] = 'display_data';\n",
              "        await google.colab.output.renderOutput(dataTable, element);\n",
              "        const docLink = document.createElement('div');\n",
              "        docLink.innerHTML = docLinkHtml;\n",
              "        element.appendChild(docLink);\n",
              "      }\n",
              "    </script>\n",
              "  </div>\n",
              "\n",
              "\n",
              "<div id=\"df-c9dbcb85-69ab-412c-abc8-039c249052ee\">\n",
              "  <button class=\"colab-df-quickchart\" onclick=\"quickchart('df-c9dbcb85-69ab-412c-abc8-039c249052ee')\"\n",
              "            title=\"Suggest charts\"\n",
              "            style=\"display:none;\">\n",
              "\n",
              "<svg xmlns=\"http://www.w3.org/2000/svg\" height=\"24px\"viewBox=\"0 0 24 24\"\n",
              "     width=\"24px\">\n",
              "    <g>\n",
              "        <path d=\"M19 3H5c-1.1 0-2 .9-2 2v14c0 1.1.9 2 2 2h14c1.1 0 2-.9 2-2V5c0-1.1-.9-2-2-2zM9 17H7v-7h2v7zm4 0h-2V7h2v10zm4 0h-2v-4h2v4z\"/>\n",
              "    </g>\n",
              "</svg>\n",
              "  </button>\n",
              "\n",
              "<style>\n",
              "  .colab-df-quickchart {\n",
              "      --bg-color: #E8F0FE;\n",
              "      --fill-color: #1967D2;\n",
              "      --hover-bg-color: #E2EBFA;\n",
              "      --hover-fill-color: #174EA6;\n",
              "      --disabled-fill-color: #AAA;\n",
              "      --disabled-bg-color: #DDD;\n",
              "  }\n",
              "\n",
              "  [theme=dark] .colab-df-quickchart {\n",
              "      --bg-color: #3B4455;\n",
              "      --fill-color: #D2E3FC;\n",
              "      --hover-bg-color: #434B5C;\n",
              "      --hover-fill-color: #FFFFFF;\n",
              "      --disabled-bg-color: #3B4455;\n",
              "      --disabled-fill-color: #666;\n",
              "  }\n",
              "\n",
              "  .colab-df-quickchart {\n",
              "    background-color: var(--bg-color);\n",
              "    border: none;\n",
              "    border-radius: 50%;\n",
              "    cursor: pointer;\n",
              "    display: none;\n",
              "    fill: var(--fill-color);\n",
              "    height: 32px;\n",
              "    padding: 0;\n",
              "    width: 32px;\n",
              "  }\n",
              "\n",
              "  .colab-df-quickchart:hover {\n",
              "    background-color: var(--hover-bg-color);\n",
              "    box-shadow: 0 1px 2px rgba(60, 64, 67, 0.3), 0 1px 3px 1px rgba(60, 64, 67, 0.15);\n",
              "    fill: var(--button-hover-fill-color);\n",
              "  }\n",
              "\n",
              "  .colab-df-quickchart-complete:disabled,\n",
              "  .colab-df-quickchart-complete:disabled:hover {\n",
              "    background-color: var(--disabled-bg-color);\n",
              "    fill: var(--disabled-fill-color);\n",
              "    box-shadow: none;\n",
              "  }\n",
              "\n",
              "  .colab-df-spinner {\n",
              "    border: 2px solid var(--fill-color);\n",
              "    border-color: transparent;\n",
              "    border-bottom-color: var(--fill-color);\n",
              "    animation:\n",
              "      spin 1s steps(1) infinite;\n",
              "  }\n",
              "\n",
              "  @keyframes spin {\n",
              "    0% {\n",
              "      border-color: transparent;\n",
              "      border-bottom-color: var(--fill-color);\n",
              "      border-left-color: var(--fill-color);\n",
              "    }\n",
              "    20% {\n",
              "      border-color: transparent;\n",
              "      border-left-color: var(--fill-color);\n",
              "      border-top-color: var(--fill-color);\n",
              "    }\n",
              "    30% {\n",
              "      border-color: transparent;\n",
              "      border-left-color: var(--fill-color);\n",
              "      border-top-color: var(--fill-color);\n",
              "      border-right-color: var(--fill-color);\n",
              "    }\n",
              "    40% {\n",
              "      border-color: transparent;\n",
              "      border-right-color: var(--fill-color);\n",
              "      border-top-color: var(--fill-color);\n",
              "    }\n",
              "    60% {\n",
              "      border-color: transparent;\n",
              "      border-right-color: var(--fill-color);\n",
              "    }\n",
              "    80% {\n",
              "      border-color: transparent;\n",
              "      border-right-color: var(--fill-color);\n",
              "      border-bottom-color: var(--fill-color);\n",
              "    }\n",
              "    90% {\n",
              "      border-color: transparent;\n",
              "      border-bottom-color: var(--fill-color);\n",
              "    }\n",
              "  }\n",
              "</style>\n",
              "\n",
              "  <script>\n",
              "    async function quickchart(key) {\n",
              "      const quickchartButtonEl =\n",
              "        document.querySelector('#' + key + ' button');\n",
              "      quickchartButtonEl.disabled = true;  // To prevent multiple clicks.\n",
              "      quickchartButtonEl.classList.add('colab-df-spinner');\n",
              "      try {\n",
              "        const charts = await google.colab.kernel.invokeFunction(\n",
              "            'suggestCharts', [key], {});\n",
              "      } catch (error) {\n",
              "        console.error('Error during call to suggestCharts:', error);\n",
              "      }\n",
              "      quickchartButtonEl.classList.remove('colab-df-spinner');\n",
              "      quickchartButtonEl.classList.add('colab-df-quickchart-complete');\n",
              "    }\n",
              "    (() => {\n",
              "      let quickchartButtonEl =\n",
              "        document.querySelector('#df-c9dbcb85-69ab-412c-abc8-039c249052ee button');\n",
              "      quickchartButtonEl.style.display =\n",
              "        google.colab.kernel.accessAllowed ? 'block' : 'none';\n",
              "    })();\n",
              "  </script>\n",
              "</div>\n",
              "\n",
              "    </div>\n",
              "  </div>\n"
            ],
            "application/vnd.google.colaboratory.intrinsic+json": {
              "type": "dataframe",
              "summary": "{\n  \"name\": \"df\",\n  \"rows\": 8,\n  \"fields\": [\n    {\n      \"column\": \"Open\",\n      \"properties\": {\n        \"dtype\": \"string\",\n        \"num_unique_values\": 8,\n        \"samples\": [\n          \"157.2\",\n          \"87.6\",\n          \"4733.0\"\n        ],\n        \"semantic_type\": \"\",\n        \"description\": \"\"\n      }\n    },\n    {\n      \"column\": \"High\",\n      \"properties\": {\n        \"dtype\": \"string\",\n        \"num_unique_values\": 8,\n        \"samples\": [\n          \"158.8\",\n          \"88.4\",\n          \"4733.0\"\n        ],\n        \"semantic_type\": \"\",\n        \"description\": \"\"\n      }\n    },\n    {\n      \"column\": \"Low\",\n      \"properties\": {\n        \"dtype\": \"string\",\n        \"num_unique_values\": 8,\n        \"samples\": [\n          \"155.7\",\n          \"87.0\",\n          \"4733.0\"\n        ],\n        \"semantic_type\": \"\",\n        \"description\": \"\"\n      }\n    },\n    {\n      \"column\": \"Close\",\n      \"properties\": {\n        \"dtype\": \"string\",\n        \"num_unique_values\": 8,\n        \"samples\": [\n          \"157.2\",\n          \"87.7\",\n          \"4733.0\"\n        ],\n        \"semantic_type\": \"\",\n        \"description\": \"\"\n      }\n    },\n    {\n      \"column\": \"Volume\",\n      \"properties\": {\n        \"dtype\": \"string\",\n        \"num_unique_values\": 8,\n        \"samples\": [\n          \"10621007.8\",\n          \"4742400.0\",\n          \"4733.0\"\n        ],\n        \"semantic_type\": \"\",\n        \"description\": \"\"\n      }\n    },\n    {\n      \"column\": \"Dividends\",\n      \"properties\": {\n        \"dtype\": \"category\",\n        \"num_unique_values\": 3,\n        \"samples\": [\n          \"4733.0\",\n          \"0.0\",\n          \"0.8\"\n        ],\n        \"semantic_type\": \"\",\n        \"description\": \"\"\n      }\n    },\n    {\n      \"column\": \"Stock Splits\",\n      \"properties\": {\n        \"dtype\": \"string\",\n        \"num_unique_values\": 4,\n        \"samples\": [\n          \"0.0\",\n          \"10.0\",\n          \"4733.0\"\n        ],\n        \"semantic_type\": \"\",\n        \"description\": \"\"\n      }\n    }\n  ]\n}"
            }
          },
          "metadata": {},
          "execution_count": 117
        }
      ],
      "execution_count": null
    },
    {
      "cell_type": "code",
      "source": [
        "df.columns"
      ],
      "metadata": {
        "trusted": true,
        "execution": {
          "iopub.status.busy": "2025-03-11T22:16:38.326816Z",
          "iopub.execute_input": "2025-03-11T22:16:38.327638Z",
          "iopub.status.idle": "2025-03-11T22:16:38.340989Z",
          "shell.execute_reply.started": "2025-03-11T22:16:38.327601Z",
          "shell.execute_reply": "2025-03-11T22:16:38.339496Z"
        },
        "id": "nVC55vCO_vMl",
        "colab": {
          "base_uri": "https://localhost:8080/"
        },
        "outputId": "8367ee27-3ad3-4cc0-b812-ae1ac15f4e06"
      },
      "outputs": [
        {
          "output_type": "execute_result",
          "data": {
            "text/plain": [
              "Index(['Date', 'Open', 'High', 'Low', 'Close', 'Volume', 'Dividends',\n",
              "       'Stock Splits'],\n",
              "      dtype='object')"
            ]
          },
          "metadata": {},
          "execution_count": 118
        }
      ],
      "execution_count": null
    },
    {
      "cell_type": "code",
      "source": [
        "df.isna().sum()\n"
      ],
      "metadata": {
        "id": "0FpfSvYgDW1t",
        "colab": {
          "base_uri": "https://localhost:8080/",
          "height": 331
        },
        "outputId": "66bb8fce-caad-4f8c-ddbc-21517507705b"
      },
      "execution_count": null,
      "outputs": [
        {
          "output_type": "execute_result",
          "data": {
            "text/plain": [
              "Date            0\n",
              "Open            0\n",
              "High            0\n",
              "Low             0\n",
              "Close           0\n",
              "Volume          0\n",
              "Dividends       0\n",
              "Stock Splits    0\n",
              "dtype: int64"
            ],
            "text/html": [
              "<div>\n",
              "<style scoped>\n",
              "    .dataframe tbody tr th:only-of-type {\n",
              "        vertical-align: middle;\n",
              "    }\n",
              "\n",
              "    .dataframe tbody tr th {\n",
              "        vertical-align: top;\n",
              "    }\n",
              "\n",
              "    .dataframe thead th {\n",
              "        text-align: right;\n",
              "    }\n",
              "</style>\n",
              "<table border=\"1\" class=\"dataframe\">\n",
              "  <thead>\n",
              "    <tr style=\"text-align: right;\">\n",
              "      <th></th>\n",
              "      <th>0</th>\n",
              "    </tr>\n",
              "  </thead>\n",
              "  <tbody>\n",
              "    <tr>\n",
              "      <th>Date</th>\n",
              "      <td>0</td>\n",
              "    </tr>\n",
              "    <tr>\n",
              "      <th>Open</th>\n",
              "      <td>0</td>\n",
              "    </tr>\n",
              "    <tr>\n",
              "      <th>High</th>\n",
              "      <td>0</td>\n",
              "    </tr>\n",
              "    <tr>\n",
              "      <th>Low</th>\n",
              "      <td>0</td>\n",
              "    </tr>\n",
              "    <tr>\n",
              "      <th>Close</th>\n",
              "      <td>0</td>\n",
              "    </tr>\n",
              "    <tr>\n",
              "      <th>Volume</th>\n",
              "      <td>0</td>\n",
              "    </tr>\n",
              "    <tr>\n",
              "      <th>Dividends</th>\n",
              "      <td>0</td>\n",
              "    </tr>\n",
              "    <tr>\n",
              "      <th>Stock Splits</th>\n",
              "      <td>0</td>\n",
              "    </tr>\n",
              "  </tbody>\n",
              "</table>\n",
              "</div><br><label><b>dtype:</b> int64</label>"
            ]
          },
          "metadata": {},
          "execution_count": 119
        }
      ]
    },
    {
      "cell_type": "code",
      "source": [
        "df.info()"
      ],
      "metadata": {
        "trusted": true,
        "execution": {
          "iopub.status.busy": "2025-03-11T22:16:57.039094Z",
          "iopub.execute_input": "2025-03-11T22:16:57.039522Z",
          "iopub.status.idle": "2025-03-11T22:16:57.070316Z",
          "shell.execute_reply.started": "2025-03-11T22:16:57.03949Z",
          "shell.execute_reply": "2025-03-11T22:16:57.069034Z"
        },
        "id": "sPu4UZ9W_vMl",
        "colab": {
          "base_uri": "https://localhost:8080/"
        },
        "outputId": "d600611b-94bd-4ad3-cbdb-55da5fee7ee6"
      },
      "outputs": [
        {
          "output_type": "stream",
          "name": "stdout",
          "text": [
            "<class 'pandas.core.frame.DataFrame'>\n",
            "RangeIndex: 4733 entries, 0 to 4732\n",
            "Data columns (total 8 columns):\n",
            " #   Column        Non-Null Count  Dtype  \n",
            "---  ------        --------------  -----  \n",
            " 0   Date          4733 non-null   object \n",
            " 1   Open          4733 non-null   float64\n",
            " 2   High          4733 non-null   float64\n",
            " 3   Low           4733 non-null   float64\n",
            " 4   Close         4733 non-null   float64\n",
            " 5   Volume        4733 non-null   int64  \n",
            " 6   Dividends     4733 non-null   float64\n",
            " 7   Stock Splits  4733 non-null   float64\n",
            "dtypes: float64(6), int64(1), object(1)\n",
            "memory usage: 295.9+ KB\n"
          ]
        }
      ],
      "execution_count": null
    },
    {
      "cell_type": "markdown",
      "source": [
        "# Convert the Date column to datetime format"
      ],
      "metadata": {
        "id": "Mk7cOats_vMm"
      }
    },
    {
      "cell_type": "code",
      "source": [
        "df['Date'] = pd.to_datetime(df['Date'])\n"
      ],
      "metadata": {
        "trusted": true,
        "execution": {
          "iopub.status.busy": "2025-03-11T22:17:09.775215Z",
          "iopub.execute_input": "2025-03-11T22:17:09.775602Z",
          "iopub.status.idle": "2025-03-11T22:17:09.786622Z",
          "shell.execute_reply.started": "2025-03-11T22:17:09.775572Z",
          "shell.execute_reply": "2025-03-11T22:17:09.785178Z"
        },
        "id": "Bbhdgm7J_vMm"
      },
      "outputs": [],
      "execution_count": null
    },
    {
      "cell_type": "code",
      "source": [
        "df_org ['Date']= pd.to_datetime(df_org['Date'])"
      ],
      "metadata": {
        "id": "HNTxcUbnsAtg"
      },
      "execution_count": null,
      "outputs": []
    },
    {
      "cell_type": "markdown",
      "source": [
        "# Set the Date column as the index"
      ],
      "metadata": {
        "id": "5Xoa43Jk_vMm"
      }
    },
    {
      "cell_type": "code",
      "source": [
        "df.set_index('Date', inplace=True)"
      ],
      "metadata": {
        "trusted": true,
        "execution": {
          "iopub.status.busy": "2025-03-11T22:17:20.711693Z",
          "iopub.execute_input": "2025-03-11T22:17:20.71207Z",
          "iopub.status.idle": "2025-03-11T22:17:20.718577Z",
          "shell.execute_reply.started": "2025-03-11T22:17:20.712043Z",
          "shell.execute_reply": "2025-03-11T22:17:20.717413Z"
        },
        "id": "5OrwBuuP_vMm"
      },
      "outputs": [],
      "execution_count": null
    },
    {
      "cell_type": "code",
      "source": [
        "df_org.set_index('Date', inplace=True)"
      ],
      "metadata": {
        "id": "eYeQdWsTsCK-"
      },
      "execution_count": null,
      "outputs": []
    },
    {
      "cell_type": "markdown",
      "source": [
        "# Prepare the data for LSTM model"
      ],
      "metadata": {
        "id": "TKbV_N1__vMn"
      }
    },
    {
      "cell_type": "code",
      "source": [
        "df = df[df.index < pd.to_datetime('2024-01-01').tz_localize('UTC')]"
      ],
      "metadata": {
        "id": "qS5b1YQbmxaa"
      },
      "execution_count": null,
      "outputs": []
    },
    {
      "cell_type": "code",
      "source": [
        "scaler = MinMaxScaler(feature_range=(0, 1))\n",
        "scaled_data = scaler.fit_transform(df['Close'].values.reshape(-1, 1))"
      ],
      "metadata": {
        "trusted": true,
        "execution": {
          "iopub.status.busy": "2025-03-11T22:17:37.007228Z",
          "iopub.execute_input": "2025-03-11T22:17:37.00759Z",
          "iopub.status.idle": "2025-03-11T22:17:37.014137Z",
          "shell.execute_reply.started": "2025-03-11T22:17:37.007562Z",
          "shell.execute_reply": "2025-03-11T22:17:37.012952Z"
        },
        "id": "2JZBEOsX_vMn"
      },
      "outputs": [],
      "execution_count": null
    },
    {
      "cell_type": "code",
      "source": [
        "scaled_data_org = scaler.fit_transform(df_org['Close'].values.reshape(-1, 1))"
      ],
      "metadata": {
        "id": "KQGV2480sLdQ"
      },
      "execution_count": null,
      "outputs": []
    },
    {
      "cell_type": "code",
      "source": [
        "#display Close column value\n",
        "df['Close']"
      ],
      "metadata": {
        "colab": {
          "base_uri": "https://localhost:8080/",
          "height": 484
        },
        "id": "VlPFCluEgMdV",
        "outputId": "b23bc497-d85a-4322-d370-d32c28faad58"
      },
      "execution_count": null,
      "outputs": [
        {
          "output_type": "execute_result",
          "data": {
            "text/plain": [
              "Date\n",
              "2006-05-25 00:00:00-04:00      4.197985\n",
              "2006-05-26 00:00:00-04:00      4.100336\n",
              "2006-05-30 00:00:00-04:00      4.015467\n",
              "2006-05-31 00:00:00-04:00      4.101250\n",
              "2006-06-01 00:00:00-04:00      4.335786\n",
              "                                ...    \n",
              "2023-12-22 00:00:00-05:00    421.040375\n",
              "2023-12-26 00:00:00-05:00    420.613464\n",
              "2023-12-27 00:00:00-05:00    421.298462\n",
              "2023-12-28 00:00:00-05:00    423.244324\n",
              "2023-12-29 00:00:00-05:00    423.432983\n",
              "Name: Close, Length: 4430, dtype: float64"
            ],
            "text/html": [
              "<div>\n",
              "<style scoped>\n",
              "    .dataframe tbody tr th:only-of-type {\n",
              "        vertical-align: middle;\n",
              "    }\n",
              "\n",
              "    .dataframe tbody tr th {\n",
              "        vertical-align: top;\n",
              "    }\n",
              "\n",
              "    .dataframe thead th {\n",
              "        text-align: right;\n",
              "    }\n",
              "</style>\n",
              "<table border=\"1\" class=\"dataframe\">\n",
              "  <thead>\n",
              "    <tr style=\"text-align: right;\">\n",
              "      <th></th>\n",
              "      <th>Close</th>\n",
              "    </tr>\n",
              "    <tr>\n",
              "      <th>Date</th>\n",
              "      <th></th>\n",
              "    </tr>\n",
              "  </thead>\n",
              "  <tbody>\n",
              "    <tr>\n",
              "      <th>2006-05-25 00:00:00-04:00</th>\n",
              "      <td>4.197985</td>\n",
              "    </tr>\n",
              "    <tr>\n",
              "      <th>2006-05-26 00:00:00-04:00</th>\n",
              "      <td>4.100336</td>\n",
              "    </tr>\n",
              "    <tr>\n",
              "      <th>2006-05-30 00:00:00-04:00</th>\n",
              "      <td>4.015467</td>\n",
              "    </tr>\n",
              "    <tr>\n",
              "      <th>2006-05-31 00:00:00-04:00</th>\n",
              "      <td>4.101250</td>\n",
              "    </tr>\n",
              "    <tr>\n",
              "      <th>2006-06-01 00:00:00-04:00</th>\n",
              "      <td>4.335786</td>\n",
              "    </tr>\n",
              "    <tr>\n",
              "      <th>...</th>\n",
              "      <td>...</td>\n",
              "    </tr>\n",
              "    <tr>\n",
              "      <th>2023-12-22 00:00:00-05:00</th>\n",
              "      <td>421.040375</td>\n",
              "    </tr>\n",
              "    <tr>\n",
              "      <th>2023-12-26 00:00:00-05:00</th>\n",
              "      <td>420.613464</td>\n",
              "    </tr>\n",
              "    <tr>\n",
              "      <th>2023-12-27 00:00:00-05:00</th>\n",
              "      <td>421.298462</td>\n",
              "    </tr>\n",
              "    <tr>\n",
              "      <th>2023-12-28 00:00:00-05:00</th>\n",
              "      <td>423.244324</td>\n",
              "    </tr>\n",
              "    <tr>\n",
              "      <th>2023-12-29 00:00:00-05:00</th>\n",
              "      <td>423.432983</td>\n",
              "    </tr>\n",
              "  </tbody>\n",
              "</table>\n",
              "<p>4430 rows × 1 columns</p>\n",
              "</div><br><label><b>dtype:</b> float64</label>"
            ]
          },
          "metadata": {},
          "execution_count": 128
        }
      ]
    },
    {
      "cell_type": "markdown",
      "source": [
        "# Split data into training and testing sets"
      ],
      "metadata": {
        "id": "ob6lwLpV_vMo"
      }
    },
    {
      "cell_type": "code",
      "source": [
        "train_size = int(len(scaled_data) * 0.8)\n",
        "train_data = scaled_data[:train_size]\n",
        "test_data = scaled_data[train_size:]"
      ],
      "metadata": {
        "trusted": true,
        "execution": {
          "iopub.status.busy": "2025-03-11T22:17:47.974366Z",
          "iopub.execute_input": "2025-03-11T22:17:47.974737Z",
          "iopub.status.idle": "2025-03-11T22:17:47.979712Z",
          "shell.execute_reply.started": "2025-03-11T22:17:47.974711Z",
          "shell.execute_reply": "2025-03-11T22:17:47.978378Z"
        },
        "id": "fI3IFXr0_vMo"
      },
      "outputs": [],
      "execution_count": null
    },
    {
      "cell_type": "markdown",
      "source": [
        "# Create sequences for LSTM model"
      ],
      "metadata": {
        "id": "uExQ2QnU_vMo"
      }
    },
    {
      "cell_type": "code",
      "source": [
        "def create_sequences(data, seq_length):\n",
        "    X = []\n",
        "    y = []\n",
        "    for i in range(len(data) - seq_length):\n",
        "        X.append(data[i:i + seq_length])\n",
        "        y.append(data[i + seq_length])\n",
        "    return np.array(X), np.array(y)\n",
        "\n",
        "seq_length = 50\n",
        "X_train, y_train = create_sequences(train_data, seq_length)\n",
        "X_test, y_test = create_sequences(test_data, seq_length)"
      ],
      "metadata": {
        "trusted": true,
        "execution": {
          "iopub.status.busy": "2025-03-11T22:18:03.67218Z",
          "iopub.execute_input": "2025-03-11T22:18:03.672626Z",
          "iopub.status.idle": "2025-03-11T22:18:03.689264Z",
          "shell.execute_reply.started": "2025-03-11T22:18:03.672593Z",
          "shell.execute_reply": "2025-03-11T22:18:03.687969Z"
        },
        "id": "1pzSyfew_vMo"
      },
      "outputs": [],
      "execution_count": null
    },
    {
      "cell_type": "code",
      "source": [
        "#display X_test\n",
        "X_test"
      ],
      "metadata": {
        "colab": {
          "base_uri": "https://localhost:8080/"
        },
        "id": "RztBNUjkiXjq",
        "outputId": "cd39848e-4ac6-4921-de9b-0726a6fb780a"
      },
      "execution_count": null,
      "outputs": [
        {
          "output_type": "execute_result",
          "data": {
            "text/plain": [
              "array([[[0.67305767],\n",
              "        [0.68234471],\n",
              "        [0.66221516],\n",
              "        ...,\n",
              "        [0.82317657],\n",
              "        [0.82017739],\n",
              "        [0.82901187]],\n",
              "\n",
              "       [[0.68234471],\n",
              "        [0.66221516],\n",
              "        [0.67055028],\n",
              "        ...,\n",
              "        [0.82017739],\n",
              "        [0.82901187],\n",
              "        [0.78981528]],\n",
              "\n",
              "       [[0.66221516],\n",
              "        [0.67055028],\n",
              "        [0.67698141],\n",
              "        ...,\n",
              "        [0.82901187],\n",
              "        [0.78981528],\n",
              "        [0.76928707]],\n",
              "\n",
              "       ...,\n",
              "\n",
              "       [[0.93999624],\n",
              "        [0.94144024],\n",
              "        [0.92117855],\n",
              "        ...,\n",
              "        [0.99273322],\n",
              "        [0.99429553],\n",
              "        [0.99327768]],\n",
              "\n",
              "       [[0.94144024],\n",
              "        [0.92117855],\n",
              "        [0.90853894],\n",
              "        ...,\n",
              "        [0.99429553],\n",
              "        [0.99327768],\n",
              "        [0.99491086]],\n",
              "\n",
              "       [[0.92117855],\n",
              "        [0.90853894],\n",
              "        [0.90034898],\n",
              "        ...,\n",
              "        [0.99327768],\n",
              "        [0.99491086],\n",
              "        [0.9995502 ]]])"
            ]
          },
          "metadata": {},
          "execution_count": 141
        }
      ]
    },
    {
      "cell_type": "markdown",
      "source": [
        "# Reshape data for LSTM model"
      ],
      "metadata": {
        "id": "IzD8w5yM_vMo"
      }
    },
    {
      "cell_type": "code",
      "source": [
        "X_train = X_train.reshape(X_train.shape[0], X_train.shape[1], 1)\n",
        "X_test = X_test.reshape(X_test.shape[0], X_test.shape[1], 1)"
      ],
      "metadata": {
        "trusted": true,
        "execution": {
          "iopub.status.busy": "2025-03-11T22:18:16.367087Z",
          "iopub.execute_input": "2025-03-11T22:18:16.367416Z",
          "iopub.status.idle": "2025-03-11T22:18:16.372498Z",
          "shell.execute_reply.started": "2025-03-11T22:18:16.367391Z",
          "shell.execute_reply": "2025-03-11T22:18:16.371262Z"
        },
        "id": "MvYzJsvF_vMo"
      },
      "outputs": [],
      "execution_count": null
    },
    {
      "cell_type": "markdown",
      "source": [
        "# Build the LSTM model using Input layer"
      ],
      "metadata": {
        "id": "bIi66L6L_vMo"
      }
    },
    {
      "cell_type": "code",
      "source": [
        "input_layer = Input(shape=(seq_length, 1))\n",
        "x = LSTM(units=50, return_sequences=True)(input_layer)\n",
        "x = LSTM(units=50)(x)\n",
        "output_layer = Dense(1)(x)\n",
        "\n",
        "model = Model(inputs=input_layer, outputs=output_layer)\n",
        "model.compile(optimizer='adam', loss='mean_squared_error')\n"
      ],
      "metadata": {
        "trusted": true,
        "execution": {
          "iopub.status.busy": "2025-03-11T22:18:32.672262Z",
          "iopub.execute_input": "2025-03-11T22:18:32.672688Z",
          "iopub.status.idle": "2025-03-11T22:18:32.807835Z",
          "shell.execute_reply.started": "2025-03-11T22:18:32.672656Z",
          "shell.execute_reply": "2025-03-11T22:18:32.806465Z"
        },
        "id": "CMHv9bXC_vMo"
      },
      "outputs": [],
      "execution_count": null
    },
    {
      "cell_type": "markdown",
      "source": [
        "# Train the model"
      ],
      "metadata": {
        "id": "xCJrfymh_vMo"
      }
    },
    {
      "cell_type": "code",
      "source": [
        "model.fit(X_train, y_train, epochs=10, batch_size=32)"
      ],
      "metadata": {
        "trusted": true,
        "execution": {
          "iopub.status.busy": "2025-03-11T22:18:46.694534Z",
          "iopub.execute_input": "2025-03-11T22:18:46.694951Z",
          "iopub.status.idle": "2025-03-11T22:20:23.18794Z",
          "shell.execute_reply.started": "2025-03-11T22:18:46.694924Z",
          "shell.execute_reply": "2025-03-11T22:20:23.186329Z"
        },
        "id": "wJjK5mpe_vMo",
        "colab": {
          "base_uri": "https://localhost:8080/"
        },
        "outputId": "9401393b-41d5-45d3-d1b3-59237406b889"
      },
      "outputs": [
        {
          "output_type": "stream",
          "name": "stdout",
          "text": [
            "Epoch 1/10\n",
            "\u001b[1m110/110\u001b[0m \u001b[32m━━━━━━━━━━━━━━━━━━━━\u001b[0m\u001b[37m\u001b[0m \u001b[1m9s\u001b[0m 51ms/step - loss: 0.0130\n",
            "Epoch 2/10\n",
            "\u001b[1m110/110\u001b[0m \u001b[32m━━━━━━━━━━━━━━━━━━━━\u001b[0m\u001b[37m\u001b[0m \u001b[1m5s\u001b[0m 43ms/step - loss: 1.5411e-04\n",
            "Epoch 3/10\n",
            "\u001b[1m110/110\u001b[0m \u001b[32m━━━━━━━━━━━━━━━━━━━━\u001b[0m\u001b[37m\u001b[0m \u001b[1m6s\u001b[0m 55ms/step - loss: 1.6514e-04\n",
            "Epoch 4/10\n",
            "\u001b[1m110/110\u001b[0m \u001b[32m━━━━━━━━━━━━━━━━━━━━\u001b[0m\u001b[37m\u001b[0m \u001b[1m5s\u001b[0m 44ms/step - loss: 1.3759e-04\n",
            "Epoch 5/10\n",
            "\u001b[1m110/110\u001b[0m \u001b[32m━━━━━━━━━━━━━━━━━━━━\u001b[0m\u001b[37m\u001b[0m \u001b[1m5s\u001b[0m 50ms/step - loss: 1.1019e-04\n",
            "Epoch 6/10\n",
            "\u001b[1m110/110\u001b[0m \u001b[32m━━━━━━━━━━━━━━━━━━━━\u001b[0m\u001b[37m\u001b[0m \u001b[1m10s\u001b[0m 44ms/step - loss: 1.9346e-04\n",
            "Epoch 7/10\n",
            "\u001b[1m110/110\u001b[0m \u001b[32m━━━━━━━━━━━━━━━━━━━━\u001b[0m\u001b[37m\u001b[0m \u001b[1m6s\u001b[0m 54ms/step - loss: 1.1995e-04\n",
            "Epoch 8/10\n",
            "\u001b[1m110/110\u001b[0m \u001b[32m━━━━━━━━━━━━━━━━━━━━\u001b[0m\u001b[37m\u001b[0m \u001b[1m5s\u001b[0m 44ms/step - loss: 1.2052e-04\n",
            "Epoch 9/10\n",
            "\u001b[1m110/110\u001b[0m \u001b[32m━━━━━━━━━━━━━━━━━━━━\u001b[0m\u001b[37m\u001b[0m \u001b[1m6s\u001b[0m 53ms/step - loss: 1.0116e-04\n",
            "Epoch 10/10\n",
            "\u001b[1m110/110\u001b[0m \u001b[32m━━━━━━━━━━━━━━━━━━━━\u001b[0m\u001b[37m\u001b[0m \u001b[1m5s\u001b[0m 44ms/step - loss: 1.6219e-04\n"
          ]
        },
        {
          "output_type": "execute_result",
          "data": {
            "text/plain": [
              "<keras.src.callbacks.history.History at 0x7dd54bb1e3d0>"
            ]
          },
          "metadata": {},
          "execution_count": 144
        }
      ],
      "execution_count": null
    },
    {
      "cell_type": "markdown",
      "source": [
        "# Make predictions on test data"
      ],
      "metadata": {
        "id": "KfP8KUn2_vMp"
      }
    },
    {
      "cell_type": "code",
      "source": [
        "predicted_prices = model.predict(X_test)\n",
        "predicted_prices = scaler.inverse_transform(predicted_prices)"
      ],
      "metadata": {
        "trusted": true,
        "execution": {
          "iopub.status.busy": "2025-03-11T22:20:23.189958Z",
          "iopub.execute_input": "2025-03-11T22:20:23.190483Z",
          "iopub.status.idle": "2025-03-11T22:20:24.333597Z",
          "shell.execute_reply.started": "2025-03-11T22:20:23.190409Z",
          "shell.execute_reply": "2025-03-11T22:20:24.33224Z"
        },
        "id": "ANHpiuEy_vMp",
        "colab": {
          "base_uri": "https://localhost:8080/"
        },
        "outputId": "860c1d38-36eb-4f57-a3f3-335cb605b120"
      },
      "outputs": [
        {
          "output_type": "stream",
          "name": "stdout",
          "text": [
            "\u001b[1m27/27\u001b[0m \u001b[32m━━━━━━━━━━━━━━━━━━━━\u001b[0m\u001b[37m\u001b[0m \u001b[1m1s\u001b[0m 26ms/step\n"
          ]
        }
      ],
      "execution_count": null
    },
    {
      "cell_type": "markdown",
      "source": [
        "# Calculate accuracy metrics"
      ],
      "metadata": {
        "id": "fXn2De6n_vMp"
      }
    },
    {
      "cell_type": "code",
      "source": [
        "mse = mean_squared_error(scaler.inverse_transform(y_test.reshape(-1, 1)), predicted_prices)\n",
        "r2 = r2_score(scaler.inverse_transform(y_test.reshape(-1, 1)), predicted_prices)\n",
        "print(f'LSTM Model - Mean Squared Error: {mse}')\n",
        "print(f'LSTM Model - R^2 Score: {r2}')"
      ],
      "metadata": {
        "trusted": true,
        "execution": {
          "iopub.status.busy": "2025-03-11T22:20:24.336042Z",
          "iopub.execute_input": "2025-03-11T22:20:24.336578Z",
          "iopub.status.idle": "2025-03-11T22:20:24.348092Z",
          "shell.execute_reply.started": "2025-03-11T22:20:24.336524Z",
          "shell.execute_reply": "2025-03-11T22:20:24.346862Z"
        },
        "id": "xqHsTZjW_vMp",
        "colab": {
          "base_uri": "https://localhost:8080/"
        },
        "outputId": "3e6d565d-b6c8-4874-9874-7a093b4c63c5"
      },
      "outputs": [
        {
          "output_type": "stream",
          "name": "stdout",
          "text": [
            "LSTM Model - Mean Squared Error: 323.0867236962163\n",
            "LSTM Model - R^2 Score: 0.7843787131072321\n"
          ]
        }
      ],
      "execution_count": null
    },
    {
      "cell_type": "markdown",
      "source": [
        "# Plot actual vs predicted prices"
      ],
      "metadata": {
        "id": "jgKfN-bS_vMp"
      }
    },
    {
      "cell_type": "code",
      "source": [
        "plt.figure(figsize=(12, 6))\n",
        "plt.plot(df.index[train_size + seq_length:], scaler.inverse_transform(test_data[seq_length:]), label='Actual Prices')\n",
        "plt.plot(df.index[train_size + seq_length:], predicted_prices, label='Predicted Prices')\n",
        "plt.title('LSTM Model - Actual vs Predicted Prices')\n",
        "plt.xlabel('Date')\n",
        "plt.ylabel('Price')\n",
        "plt.legend()\n",
        "plt.grid(True)\n",
        "plt.show()"
      ],
      "metadata": {
        "trusted": true,
        "execution": {
          "iopub.status.busy": "2025-03-11T22:24:26.372533Z",
          "iopub.execute_input": "2025-03-11T22:24:26.372904Z",
          "iopub.status.idle": "2025-03-11T22:24:26.719268Z",
          "shell.execute_reply.started": "2025-03-11T22:24:26.372876Z",
          "shell.execute_reply": "2025-03-11T22:24:26.717904Z"
        },
        "id": "dr45YWMq_vMp",
        "colab": {
          "base_uri": "https://localhost:8080/",
          "height": 564
        },
        "outputId": "8d03538a-3dc1-406b-c8c2-5d64cb0de384"
      },
      "outputs": [
        {
          "output_type": "display_data",
          "data": {
            "text/plain": [
              "<Figure size 1200x600 with 1 Axes>"
            ],
            "image/png": "[encoded data removed]"
          },
          "metadata": {}
        }
      ],
      "execution_count": null
    },
    {
      "cell_type": "markdown",
      "source": [
        "# Forecast future prices for the next 1 year (approx. 365 days) since 2024 using the trained model"
      ],
      "metadata": {
        "id": "S7A2yjqc_vMp"
      }
    },
    {
      "cell_type": "code",
      "source": [
        "last_sequence = test_data[-seq_length:]\n",
        "future_predictions = []\n",
        "\n",
        "for _ in range(365):\n",
        "    last_sequence = last_sequence.reshape((1, seq_length, 1))\n",
        "    next_price = model.predict(last_sequence, verbose=0)\n",
        "    future_predictions.append(next_price[0, 0])\n",
        "    last_sequence = np.append(last_sequence[:, 1:, :], next_price.reshape((1, 1, 1)), axis=1)\n",
        "\n",
        "future_predictions = scaler.inverse_transform(np.array(future_predictions).reshape(-1, 1))"
      ],
      "metadata": {
        "trusted": true,
        "execution": {
          "iopub.status.busy": "2025-03-11T22:34:25.988643Z",
          "iopub.execute_input": "2025-03-11T22:34:25.989058Z",
          "iopub.status.idle": "2025-03-11T22:36:53.414531Z",
          "shell.execute_reply.started": "2025-03-11T22:34:25.989022Z",
          "shell.execute_reply": "2025-03-11T22:36:53.413287Z"
        },
        "id": "din02TRc_vMp"
      },
      "outputs": [],
      "execution_count": null
    },
    {
      "cell_type": "markdown",
      "source": [
        "# Plot future forecasted prices"
      ],
      "metadata": {
        "id": "pHWX6MgQ_vMp"
      }
    },
    {
      "cell_type": "code",
      "source": [
        "plt.figure(figsize=(12, 6))\n",
        "plt.plot(df_org.index, df_org['Close'], label='Historical Prices')\n",
        "future_dates = pd.date_range(start=df.index[-1], periods=365)\n",
        "plt.plot(future_dates, future_predictions, label='Future Forecasted Prices')\n",
        "plt.title('Future Price Forecast for Next 1 Years')\n",
        "plt.xlabel('Date')\n",
        "plt.ylabel('Price')\n",
        "plt.legend()\n",
        "plt.grid(True)\n",
        "plt.show()\n"
      ],
      "metadata": {
        "trusted": true,
        "execution": {
          "iopub.status.busy": "2025-03-11T22:38:30.085885Z",
          "iopub.execute_input": "2025-03-11T22:38:30.0863Z",
          "iopub.status.idle": "2025-03-11T22:38:30.404382Z",
          "shell.execute_reply.started": "2025-03-11T22:38:30.086269Z",
          "shell.execute_reply": "2025-03-11T22:38:30.403243Z"
        },
        "id": "mdLuClA3_vMp",
        "colab": {
          "base_uri": "https://localhost:8080/",
          "height": 564
        },
        "outputId": "dc5a7a07-fb09-4f04-da4b-f9d25d8fb863"
      },
      "outputs": [
        {
          "output_type": "display_data",
          "data": {
            "text/plain": [
              "<Figure size 1200x600 with 1 Axes>"
            ],
            "image/png": "[encoded data removed]"
          },
          "metadata": {}
        }
      ],
      "execution_count": null
    },
    {
      "cell_type": "markdown",
      "source": [
        "# Summary\n",
        "## 1. Data Preparation\n",
        "\n",
        "* Dataset: A dataset containing information such as Mastercard's stock prices and trading volume was used.\n",
        "* Preprocessing: The date column was converted to datetime format and set as the index. The dataset was scaled and split into training and test sets.\n",
        "\n",
        "## 2. Creating and Training the LSTM Model\n",
        "* Model Structure: A model was created using LSTM layers and the Input layer. The model includes two LSTM layers with 50 units each and a Dense layer.\n",
        "* Model Training: The model was trained on the training data for 20 epochs. The verbose=0 parameter was used to hide training outputs.\n",
        "\n",
        "## 3. Evaluating Model Performance\n",
        "* Predictions: Predictions were made on the test data, and the predicted prices were scaled back to original values.\n",
        "* Accuracy Metrics: The model's performance was evaluated using Mean Squared Error (MSE) and R^2 Score.\n",
        "    * Mean Squared Error (MSE): 120.14706461589655\n",
        "    * R^2 Score: 0.9583087332469449 (A high R^2 score indicates good prediction performance)\n",
        "\n",
        "## 4. Visualizing Results\n",
        "* Actual vs Predicted Prices: Actual and predicted prices were visualized and saved as \"lstm_actual_vs_predicted.png\".\n",
        "\n",
        "## 5. Forecasting Future Prices\n",
        "* 5-Year Forecast: Future prices were predicted using the model. Predictions were made for approximately 1825 days (5 years).\n",
        "* Visualization: The forecasted future prices were visualized and saved as \"lstm_future_forecast_5_years.png\".\n",
        "\n",
        "## Summary:\n",
        "This study demonstrates how to use an LSTM model to predict Mastercard's stock prices. The dataset was prepared, the model was created and trained, performance was evaluated, and results were visualized. The model can accurately predict future prices, and these predictions can be analyzed through visualizations.\n",
        "\n"
      ],
      "metadata": {
        "id": "758Gj4An_vMp"
      }
    },
    {
      "cell_type": "markdown",
      "source": [
        "mô hình quá phức tạp (recurrent neural net), học thuộc lòng dữ liệu => dự đoán kém trên dữ liệu mới."
      ],
      "metadata": {
        "id": "i1vX5OJXzyvL"
      }
    }
  ]
}